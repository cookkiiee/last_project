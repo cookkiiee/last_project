{
  "nbformat": 4,
  "nbformat_minor": 0,
  "metadata": {
    "colab": {
      "provenance": [],
      "authorship_tag": "ABX9TyOjYuFEuAwlCn5F+Il4gGPc",
      "include_colab_link": true
    },
    "kernelspec": {
      "name": "python3",
      "display_name": "Python 3"
    },
    "language_info": {
      "name": "python"
    }
  },
  "cells": [
    {
      "cell_type": "markdown",
      "metadata": {
        "id": "view-in-github",
        "colab_type": "text"
      },
      "source": [
        "<a href=\"https://colab.research.google.com/github/cookkiiee/last_project/blob/main/%EC%88%9C%ED%99%98%EC%8B%A0%EA%B2%BD%EB%A7%9D_%EC%84%9C%EC%9A%B8%EA%B8%B0%EC%83%81%EB%8D%B0%EC%9D%B4%ED%84%B0.ipynb\" target=\"_parent\"><img src=\"https://colab.research.google.com/assets/colab-badge.svg\" alt=\"Open In Colab\"/></a>"
      ]
    },
    {
      "cell_type": "code",
      "execution_count": 14,
      "metadata": {
        "colab": {
          "base_uri": "https://localhost:8080/"
        },
        "id": "uD1kzV2EDoEK",
        "outputId": "f8e16075-850c-4861-8a73-783cda64c518"
      },
      "outputs": [
        {
          "output_type": "stream",
          "name": "stdout",
          "text": [
            "fatal: destination path 'ml' already exists and is not an empty directory.\n"
          ]
        }
      ],
      "source": [
        "# github에서 서울 기상 데이터세트를 다운받습니다.\n",
        "!git clone https://github.com/baek2sm/ml.git"
      ]
    },
    {
      "cell_type": "code",
      "source": [
        "# 실습에 필요한 라이브러리를 불러옵니다.\n",
        "import torch\n",
        "import torch.nn as nn\n",
        "import torch.optim as optim\n",
        "from torch.utils.data import TensorDataset, DataLoader\n",
        "import joblib"
      ],
      "metadata": {
        "id": "x7NQTrtNFRY1"
      },
      "execution_count": 15,
      "outputs": []
    },
    {
      "cell_type": "code",
      "source": [
        "# 서울 기상 데이터세트를 불러옵니다.\n",
        "datasets = joblib.load('./ml/datasets/weather.pickle')\n",
        "\n",
        "# 입력 데이터와 타깃을 준비합니다.\n",
        "data, target = datasets['data'], datasets['target']\n",
        "\n",
        "# 입력 데이터와 타깃의 형태를 출력합니다.\n",
        "print(data.shape, target.shape)"
      ],
      "metadata": {
        "colab": {
          "base_uri": "https://localhost:8080/"
        },
        "id": "hKYhzoMEFSmj",
        "outputId": "9b3acbac-b045-4703-b66b-ee70cb9eb917"
      },
      "execution_count": 16,
      "outputs": [
        {
          "output_type": "stream",
          "name": "stdout",
          "text": [
            "(26181, 24, 3) (26181,)\n"
          ]
        }
      ]
    },
    {
      "cell_type": "code",
      "source": [
        "# 학습 세트와 테스트 세트를 나눕니다.\n",
        "train_length = 20000\n",
        "X_train, X_test = data[:train_length], data[train_length:]\n",
        "y_train, y_test = target[:train_length], target[train_length:]\n",
        "\n",
        "# 넘파이 자료구조를 텐서 자료구조로 변환합니다.\n",
        "X_train, X_test = torch.from_numpy(X_train), torch.from_numpy(X_test)\n",
        "y_train, y_test = torch.from_numpy(y_train), torch.from_numpy(y_test)"
      ],
      "metadata": {
        "id": "mu9XTDN3FTCM"
      },
      "execution_count": 17,
      "outputs": []
    },
    {
      "cell_type": "code",
      "source": [
        "# 데이터세트 자료구조를 준비합니다.\n",
        "dset_train, dset_test = TensorDataset(X_train, y_train), TensorDataset(X_test, y_test)\n",
        "\n",
        "# 데이터 로더를 준비합니다.\n",
        "train_loader = DataLoader(dset_train, batch_size=256, shuffle=True)\n",
        "test_loader = DataLoader(dset_test, batch_size=256, shuffle=False)"
      ],
      "metadata": {
        "id": "Gyy54IfEFVOa"
      },
      "execution_count": 18,
      "outputs": []
    },
    {
      "cell_type": "code",
      "source": [
        "# RNN 모델 클래스를 정의합니다.\n",
        "class RNN(nn.Module):\n",
        "  def __init__(self):\n",
        "    super().__init__()\n",
        "    self.cell = nn.RNN(3, 3, batch_first=True)\n",
        "    self.fc = nn.Linear(24*3, 1)\n",
        "\n",
        "  def forward(self, X):\n",
        "    out, hidden_state = self.cell(X)\n",
        "    out = out.contiguous()\n",
        "    out = self.fc(out.view(-1, 24*3))\n",
        "    return out"
      ],
      "metadata": {
        "id": "Q9fgChFKFWdO"
      },
      "execution_count": 19,
      "outputs": []
    },
    {
      "cell_type": "code",
      "source": [
        "# 그래픽 카드 사용이 가능할 경우 그래픽 카드로 연산하도록 설정합니다.\n",
        "device = 'cuda' if torch.cuda.is_available() else 'cpu'\n",
        "\n",
        "# RNN 모델 객체를 생성합니다.\n",
        "model = RNN().to(device)\n",
        "\n",
        "# 평균 제곱 오차(Mean Squared Error) 손실 함수 객체를 생성합니다.\n",
        "criterion = nn.MSELoss()\n",
        "\n",
        "# 아담 옵티마이저 객체를 생성합니다.\n",
        "optimizer = optim.Adam(model.parameters(), lr=2e-4)"
      ],
      "metadata": {
        "id": "nbzwsl8sFXcB"
      },
      "execution_count": 20,
      "outputs": []
    },
    {
      "cell_type": "code",
      "source": [
        "# 학습 함수를 정의합니다.\n",
        "def train(model, criterion, optimizer, loader):\n",
        "  # 현재 에포크의 오차를 저장할 변수를 생성합니다.\n",
        "  epoch_loss = 0\n",
        "\n",
        "  # 모델을 학습 모드로 설정합니다.\n",
        "  model.train()\n",
        "\n",
        "  # 배치 학습을 실행합니다.\n",
        "  for X_batch, y_batch in loader:\n",
        "    # 입력 데이터와 타깃을 준비합니다.\n",
        "    X_batch, y_batch = X_batch.to(device), y_batch.to(device).float().view(-1, 1)\n",
        "    # 기울기를 초기화합니다.\n",
        "    optimizer.zero_grad()\n",
        "    # 모델을 사용해 타깃을 예측합니다.\n",
        "    hypothesis = model(X_batch)\n",
        "    # 손실 함수로 오차를 계산합니다.\n",
        "    loss = criterion(hypothesis, y_batch)        \n",
        "    # 기울기를 계산합니다.\n",
        "    loss.backward()\n",
        "    # 경사 하강법으로 가중치를 수정합니다.\n",
        "    optimizer.step()    \n",
        "    # 현재 배치의 오차를 저장합니다.\n",
        "    epoch_loss += loss.item()\n",
        "\n",
        "  # 현재 에포크의 오차를 반환합니다.\n",
        "  return epoch_loss / len(loader)"
      ],
      "metadata": {
        "id": "WdgAkeZmFZYC"
      },
      "execution_count": 21,
      "outputs": []
    },
    {
      "cell_type": "code",
      "source": [
        "# 평가 함수를 정의합니다.\n",
        "def evaluate(model, criterion, loader):\n",
        "  # 현재 에포크의 오차를 저장할 변수를 생성합니다.\n",
        "  epoch_loss = 0\n",
        "\n",
        "  # 모델을 평가 모드로 설정합니다.\n",
        "  model.eval()\n",
        "\n",
        "  with torch.no_grad():\n",
        "    # 배치 학습을 실행합니다.\n",
        "    for X_batch, y_batch in loader:\n",
        "      # 입력 데이터와 타깃을 그래픽카드로 연산하도록 준비합니다.\n",
        "      X_batch, y_batch = X_batch.to(device), y_batch.to(device).float().view(-1, 1)\n",
        "      # 모델을 사용해 타깃을 예측합니다.\n",
        "      hypothesis = model(X_batch)\n",
        "      # 손실 함수로 오차를 계산합니다.\n",
        "      loss = criterion(hypothesis, y_batch)\n",
        "      # 현재 배치의 오차를 저장합니다.\n",
        "      epoch_loss += loss.item()\n",
        "\n",
        "    # 현재 에포크의 오차를 반환합니다.\n",
        "    return epoch_loss / len(loader)"
      ],
      "metadata": {
        "id": "ritvF3BiFaus"
      },
      "execution_count": 22,
      "outputs": []
    },
    {
      "cell_type": "code",
      "source": [
        "# 200회에 걸쳐 모델을 학습시킵니다.\n",
        "for epoch in range(1, 201):\n",
        "  # 모델을 학습시킵니다.\n",
        "  loss = train(model, criterion, optimizer, train_loader)\n",
        "\n",
        "  # 모델을 평가합니다.\n",
        "  test_loss = evaluate(model, criterion, test_loader)\n",
        "\n",
        "  if epoch % 20 == 0:\n",
        "    # 20 에포크마다 현재 에포크의 학습 결과를 출력합니다.\n",
        "    print('epoch: {}, loss: {:.3f}, test_loss: {:.3f}'.format(\n",
        "        epoch, loss, test_loss\n",
        "    )) "
      ],
      "metadata": {
        "colab": {
          "base_uri": "https://localhost:8080/"
        },
        "id": "shwxI5V7FcD8",
        "outputId": "4b13b905-fe86-49b1-ab59-59375af6d4a6"
      },
      "execution_count": 13,
      "outputs": [
        {
          "output_type": "stream",
          "name": "stdout",
          "text": [
            "epoch: 20, loss: 47.024, test_loss: 29.086\n",
            "epoch: 40, loss: 20.240, test_loss: 19.488\n",
            "epoch: 60, loss: 16.596, test_loss: 17.943\n",
            "epoch: 80, loss: 14.374, test_loss: 15.693\n",
            "epoch: 100, loss: 12.703, test_loss: 14.161\n",
            "epoch: 120, loss: 11.753, test_loss: 13.363\n",
            "epoch: 140, loss: 11.233, test_loss: 12.848\n",
            "epoch: 160, loss: 10.754, test_loss: 12.437\n",
            "epoch: 180, loss: 10.368, test_loss: 12.158\n",
            "epoch: 200, loss: 10.198, test_loss: 11.891\n"
          ]
        }
      ]
    },
    {
      "cell_type": "code",
      "source": [
        "# 모델을 평가 모드로 설정합니다.\n",
        "model.eval()\n",
        "\n",
        "with torch.no_grad():    \n",
        "    # 테스트 세트의 데이터로더에서 배치 단위로 데이터를 불러옵니다.\n",
        "    for X_batch, y_batch in test_loader:\n",
        "      # 배치 데이터를 cuda로 이동시키고, 타깃의 타입과 형태를 조정합니다.\n",
        "      X_batch, y_batch = X_batch.to(device), y_batch.to(device).float().view(-1, 1)\n",
        "      # 모델을 사용해 타깃을 예측합니다. 예측값은 10개 클래스에 대한 확률값입니다.\n",
        "      hypothesis = model(X_batch)      \n",
        "      # 배치의 첫 번째 데이터 샘플마다 모델이 예측한 값과 실제 타깃을 출력합니다.\n",
        "      print('predicted target: {:.2f}, real target: {:.2f}'.format(hypothesis[0].item(), y_batch[0].item()))"
      ],
      "metadata": {
        "colab": {
          "base_uri": "https://localhost:8080/"
        },
        "id": "VtKi7uOOFgW0",
        "outputId": "ea858ec8-a3f2-4409-a100-4b3653d80113"
      },
      "execution_count": 23,
      "outputs": [
        {
          "output_type": "stream",
          "name": "stdout",
          "text": [
            "predicted target: 0.25, real target: 18.40\n",
            "predicted target: 0.55, real target: 5.20\n",
            "predicted target: 0.23, real target: 11.50\n",
            "predicted target: 0.27, real target: 8.90\n",
            "predicted target: 0.27, real target: -0.20\n",
            "predicted target: 0.27, real target: 0.20\n",
            "predicted target: 0.27, real target: 0.30\n",
            "predicted target: 0.27, real target: 5.00\n",
            "predicted target: 0.27, real target: -1.20\n",
            "predicted target: 0.27, real target: 3.60\n",
            "predicted target: 0.27, real target: 2.70\n",
            "predicted target: 0.27, real target: 5.20\n",
            "predicted target: 0.27, real target: 8.20\n",
            "predicted target: 0.27, real target: 0.50\n",
            "predicted target: -0.02, real target: 3.60\n",
            "predicted target: 0.54, real target: 16.00\n",
            "predicted target: 0.23, real target: 7.30\n",
            "predicted target: -0.23, real target: 13.20\n",
            "predicted target: 0.33, real target: 15.80\n",
            "predicted target: 0.28, real target: 11.70\n",
            "predicted target: 0.39, real target: 17.70\n",
            "predicted target: 0.27, real target: 21.60\n",
            "predicted target: 0.18, real target: 19.30\n",
            "predicted target: -0.07, real target: 24.10\n",
            "predicted target: 0.27, real target: 27.50\n"
          ]
        }
      ]
    }
  ]
}